{
 "metadata": {
  "name": "",
  "signature": "sha256:28f71aaa7327250b19a812731dd3b18c37addeba4280aad3d4b2dc4bc0dc1af4"
 },
 "nbformat": 3,
 "nbformat_minor": 0,
 "worksheets": [
  {
   "cells": [
    {
     "cell_type": "code",
     "collapsed": false,
     "input": [
      "# noexport\n",
      "\n",
      "import os\n",
      "os.system('export_notebook logquery.ipynb')"
     ],
     "language": "python",
     "metadata": {},
     "outputs": [
      {
       "metadata": {},
       "output_type": "pyout",
       "prompt_number": 1,
       "text": [
        "0"
       ]
      }
     ],
     "prompt_number": 1
    },
    {
     "cell_type": "code",
     "collapsed": false,
     "input": [
      "import os\n",
      "import itertools\n",
      "import json\n",
      "\n",
      "def allcollection(collection_name):\n",
      "  files = listcollectionfiles(collection_name)\n",
      "  for filename in files:\n",
      "    for line in open(filename):\n",
      "      yield json.loads(line)\n",
      "\n",
      "def listcollectionfiles(collection_name):\n",
      "  output = []\n",
      "  mongoprefix = 'mongohq_'\n",
      "  if collection_name == 'fblogs':\n",
      "    mongoprefix = 'mongolab_'\n",
      "  logfiles = sorted(os.listdir('..'))\n",
      "  logfiles = [x for x in logfiles if x.startswith(mongoprefix + collection_name)]\n",
      "  for i in itertools.count(1):\n",
      "    prefix = mongoprefix + collection_name\n",
      "    if i > 1:\n",
      "      prefix += str(i)\n",
      "    files = [x for x in logfiles if x.startswith(prefix)]\n",
      "    if len(files) == 0:\n",
      "      break\n",
      "    lastfile = files[-1]\n",
      "    output.append('../' + lastfile)\n",
      "  return output\n"
     ],
     "language": "python",
     "metadata": {},
     "outputs": []
    }
   ],
   "metadata": {}
  }
 ]
}